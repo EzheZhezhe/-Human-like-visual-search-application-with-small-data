{
 "cells": [
  {
   "cell_type": "markdown",
   "metadata": {},
   "source": [
    "# About me\n",
    "\n",
    "**Alyona Galyeva**: [Principal Data Solutions Engineer at LINKIT](https://www.linkit.nl/en) and [Organiser at PyLadies Amsterdam](https://amsterdam.pyladies.com/)\n",
    "\n",
    "Feel free to contact me via\n",
    "\n",
    "*email*: alyona.galyeva@linkit.nl\n",
    "\n",
    "*LinkedIn*: https://www.linkedin.com/in/alyonagalyeva/\n"
   ]
  },
  {
   "cell_type": "markdown",
   "metadata": {},
   "source": [
    "# Workshop materials\n",
    "\n",
    "[GitHub repository](...)\n",
    "\n",
    "\"*...*\" contains the notebook with the slides and code\n",
    "\n",
    " \"*environment.yml*\" contains all dependencies\n",
    " \n",
    " **NOTE: some blocks of code may take substantial time to run, mind that when running the full notebook**"
   ]
  },
  {
   "cell_type": "markdown",
   "metadata": {
    "slideshow": {
     "slide_type": "slide"
    }
   },
   "source": [
    "# Human-like Visual Search Application with small data"
   ]
  },
  {
   "cell_type": "markdown",
   "metadata": {
    "slideshow": {
     "slide_type": "subslide"
    }
   },
   "source": [
    "# Workshop structure\n",
    "\n",
    "- lorem ipsum\n",
    "- lorem ipsum\n",
    "- lorem ipsum\n",
    "- ..."
   ]
  },
  {
   "cell_type": "markdown",
   "metadata": {
    "slideshow": {
     "slide_type": "slide"
    }
   },
   "source": [
    "# Lorem ipsum\n",
    "\n",
    "- lorem ipsum\n",
    "- ..."
   ]
  },
  {
   "cell_type": "markdown",
   "metadata": {
    "slideshow": {
     "slide_type": "slide"
    }
   },
   "source": [
    "# Code time\n",
    "\n",
    "## lorem ipsum\n",
    "\n",
    "1. lorem ipsum\n",
    "2. lorem ipsum\n",
    "3. lorem ipsum\n",
    "4. lorem ipsum\n",
    "5. lorem ipsum"
   ]
  },
  {
   "cell_type": "markdown",
   "metadata": {},
   "source": [
    "# First step description\n",
    "\n",
    "### Here we use:\n",
    "\n",
    "- lorem ipsum"
   ]
  },
  {
   "cell_type": "markdown",
   "metadata": {},
   "source": [
    "## Home assignment\n",
    "\n"
   ]
  },
  {
   "cell_type": "markdown",
   "metadata": {},
   "source": [
    "# Step 2 description\n",
    "\n",
    "lorem ipsum"
   ]
  },
  {
   "cell_type": "code",
   "execution_count": 156,
   "metadata": {},
   "outputs": [],
   "source": [
    "#a resusable function to print a picture and show predictions\n",
    "\n",
    "def show_predict(img, predict = False, pred_model = None, shape = (28, 28), threshold = 0.05, show_img = True):\n",
    "    \n",
    "    \"\"\"\n",
    "    an image display function for MNIST dataset\n",
    "    you can determine whether predictions are also printed from a given model\n",
    "    \n",
    "    > img: image to print\n",
    "    > predict: whether predictions are calculated and printed\n",
    "    > pred_model: keras model that will be used for predictions\n",
    "    > shape: image shape, 28x28 by default\n",
    "    > threshold: minimum probability with which predictions will be displayed\n",
    "    > show_img: if False, does not show the image\n",
    "    \n",
    "    \"\"\"\n",
    "    if show_img:\n",
    "        plt.imshow(img.reshape(shape),vmin=0., vmax=1.)\n",
    "        plt.show()\n",
    "    \n",
    "    if predict:\n",
    "        \n",
    "        if pred_model == None:\n",
    "            print(\"you did not provide a model!\")\n",
    "            \n",
    "        else:\n",
    "            prediction = pred_model.predict(img)[0]\n",
    "            prediction = [(f'number {range(10)[idx]}', prediction[idx]) for idx in range(10) if prediction[idx] >= threshold]\n",
    "            print(prediction)"
   ]
  },
  {
   "cell_type": "markdown",
   "metadata": {},
   "source": [
    "# description\n",
    "lorem ipsum"
   ]
  },
  {
   "cell_type": "markdown",
   "metadata": {},
   "source": [
    "## bla bla Method\n",
    "\n",
    "**Idea**:\n"
   ]
  },
  {
   "cell_type": "markdown",
   "metadata": {},
   "source": [
    "## Another bla bla Method\n",
    "\n",
    "lorem ipsum"
   ]
  },
  {
   "cell_type": "markdown",
   "metadata": {},
   "source": [
    "## Home assignment\n",
    "\n",
    "lorem ipsum"
   ]
  },
  {
   "cell_type": "markdown",
   "metadata": {},
   "source": [
    "## Third step \n",
    "\n",
    "**Idea**:\n",
    "\n",
    "lorem ipsum"
   ]
  },
  {
   "cell_type": "markdown",
   "metadata": {},
   "source": [
    "## Let's do smth"
   ]
  },
  {
   "cell_type": "markdown",
   "metadata": {},
   "source": [
    "# Fourth step\n",
    "\n",
    "## Possible Approaches:\n",
    "\n",
    "lorem ipsum"
   ]
  },
  {
   "cell_type": "markdown",
   "metadata": {},
   "source": [
    "# step 1 for this\n",
    "\n"
   ]
  },
  {
   "cell_type": "markdown",
   "metadata": {},
   "source": [
    "# : summary\n",
    "\n",
    "**pros:**\n",
    "- easy to implement\n",
    "- can keep the model structure\n",
    "- can learn to ignore many new types of noise\n",
    "- can combine samples from different \n",
    "\n",
    "**cons:**\n",
    "- very different types may still succeed\n",
    "- needed amount oftraining data is unclear\n",
    "- when overdone, may hurt \n",
    "- is hard to measure"
   ]
  },
  {
   "cell_type": "markdown",
   "metadata": {},
   "source": [
    "## Home assignment\n",
    "\n",
    "1. lorem ipsum\n",
    "2. lorem ipsum\n",
    "\n",
    "*Bonus:* on step 2 lorem ipsum\n",
    "\n",
    "*Future tip:* "
   ]
  },
  {
   "cell_type": "markdown",
   "metadata": {},
   "source": [
    "# Advanced bla bla & further reading\n",
    "\n"
   ]
  },
  {
   "cell_type": "markdown",
   "metadata": {},
   "source": [
    "# Conclusions and Bonus Tips\n",
    "\n",
    "- lorem ipsum\n",
    "- lorem ipsum"
   ]
  },
  {
   "cell_type": "markdown",
   "metadata": {},
   "source": [
    "## What's next?\n",
    "\n",
    "There is much more to ... than what we covered today! If you find this a relevant and interesting subject - it is definitely a good idea to learn more about the topic. This notebook contains a number of references to more other techniques - which could be a good next step.\n",
    "\n",
    "\n",
    "**See you next time!**\n"
   ]
  },
  {
   "cell_type": "markdown",
   "metadata": {
    "slideshow": {
     "slide_type": "slide"
    }
   },
   "source": [
    "# Thank you for your attention!\n",
    "\n"
   ]
  }
 ],
 "metadata": {
  "celltoolbar": "Slideshow",
  "kernelspec": {
   "display_name": "Python 3",
   "language": "python",
   "name": "python3"
  },
  "language_info": {
   "codemirror_mode": {
    "name": "ipython",
    "version": 3
   },
   "file_extension": ".py",
   "mimetype": "text/x-python",
   "name": "python",
   "nbconvert_exporter": "python",
   "pygments_lexer": "ipython3",
   "version": "3.7.7"
  }
 },
 "nbformat": 4,
 "nbformat_minor": 4
}