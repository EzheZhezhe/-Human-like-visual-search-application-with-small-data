{
 "cells": [
  {
   "cell_type": "markdown",
   "metadata": {
    "slideshow": {
     "slide_type": "slide"
    }
   },
   "source": [
    "# Human-like Visual Search Application with small data"
   ]
  },
  {
   "cell_type": "markdown",
   "metadata": {},
   "source": [
    "# Workshop materials\n",
    "\n",
    "[GitHub repository](...)\n",
    "\n",
    "\"*...*\" contains the notebook with the slides \n",
    "\n",
    " \"*environment.yml*\" contains all dependencies\n",
    " \n",
    " **NOTE: some blocks of code may take substantial time to run, mind that when running the full notebook**"
   ]
  },
  {
   "cell_type": "markdown",
   "metadata": {},
   "source": [
    "# About me\n",
    "\n",
    "**Alyona Galyeva**: [Principal Data Solutions Engineer at LINKIT](https://www.linkit.nl/en) and [Organiser at PyLadies Amsterdam](https://amsterdam.pyladies.com/)\n",
    "\n",
    "Feel free to contact me via LinkedIn: https://www.linkedin.com/in/alyonagalyeva/\n"
   ]
  },
  {
   "cell_type": "markdown",
   "metadata": {
    "slideshow": {
     "slide_type": "subslide"
    }
   },
   "source": [
    "# Workshop structure\n",
    "\n",
    "1. Building blocks of Siamese Mask R-CNN\n",
    "2. Siamese Mask R-CNN single deployment\n",
    "3. Known limitations and possible improvements\n",
    "4. Conclusions and Next steps"
   ]
  },
  {
   "cell_type": "markdown",
   "metadata": {},
   "source": [
    "# 1.Building blocks of Siamese Mask R-CNN\n",
    "\n",
    "lorem ipsum"
   ]
  },
  {
   "cell_type": "markdown",
   "metadata": {},
   "source": [
    "## Home assignment\n",
    "\n",
    "lorem ipsum"
   ]
  },
  {
   "cell_type": "markdown",
   "metadata": {},
   "source": [
    "# 2.Siamese Mask R-CNN single deployment\n",
    "lorem ipsum"
   ]
  },
  {
   "cell_type": "markdown",
   "metadata": {},
   "source": [
    "## Home assignment\n",
    "\n",
    "lorem ipsum"
   ]
  },
  {
   "cell_type": "markdown",
   "metadata": {},
   "source": [
    "# 3.Known limitations and possible improvements\n",
    "\n",
    "**Known limitations:**\n",
    "- easy to implement\n",
    "- can keep the model structure\n",
    "- can learn to ignore many new types of noise\n",
    "- can combine samples from different \n",
    "\n",
    "**Possible improvements:**\n",
    "- very different types may still succeed\n",
    "- needed amount oftraining data is unclear\n",
    "- when overdone, may hurt \n",
    "- is hard to measure"
   ]
  },
  {
   "cell_type": "markdown",
   "metadata": {},
   "source": [
    "## Home assignment\n",
    "\n",
    "1. lorem ipsum\n",
    "2. lorem ipsum\n",
    "\n",
    "*Bonus:* on step 2 lorem ipsum\n",
    "\n",
    "*Future tip:* "
   ]
  },
  {
   "cell_type": "markdown",
   "metadata": {},
   "source": [
    "# 4.Conclusions and Next steps\n",
    "\n",
    "- lorem ipsum\n",
    "- lorem ipsum"
   ]
  },
  {
   "cell_type": "markdown",
   "metadata": {
    "slideshow": {
     "slide_type": "slide"
    }
   },
   "source": [
    "# Thank you for your attention!\n",
    "\n"
   ]
  }
 ],
 "metadata": {
  "celltoolbar": "Slideshow",
  "kernelspec": {
   "display_name": "Python 3",
   "language": "python",
   "name": "python3"
  },
  "language_info": {
   "codemirror_mode": {
    "name": "ipython",
    "version": 3
   },
   "file_extension": ".py",
   "mimetype": "text/x-python",
   "name": "python",
   "nbconvert_exporter": "python",
   "pygments_lexer": "ipython3",
   "version": "3.7.7"
  }
 },
 "nbformat": 4,
 "nbformat_minor": 4
}